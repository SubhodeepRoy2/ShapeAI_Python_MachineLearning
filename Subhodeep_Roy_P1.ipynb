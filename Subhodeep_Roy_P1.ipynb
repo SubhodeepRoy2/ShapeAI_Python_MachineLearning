{
  "nbformat": 4,
  "nbformat_minor": 0,
  "metadata": {
    "colab": {
      "provenance": []
    },
    "kernelspec": {
      "name": "python3",
      "display_name": "Python 3"
    },
    "language_info": {
      "name": "python"
    }
  },
  "cells": [
    {
      "cell_type": "code",
      "execution_count": null,
      "metadata": {
        "id": "9eSDx4Sn8rl2"
      },
      "outputs": [],
      "source": [
        "import numpy as np\n",
        "import pandas as pd\n",
        "import sklearn\n"
      ]
    },
    {
      "cell_type": "code",
      "source": [
        "from sklearn.datasets import load_boston\n",
        "df = load_boston()"
      ],
      "metadata": {
        "id": "TQgH3iml9Mxg"
      },
      "execution_count": null,
      "outputs": []
    },
    {
      "cell_type": "code",
      "source": [
        "df\n"
      ],
      "metadata": {
        "id": "goFlGnSC9Mzx"
      },
      "execution_count": null,
      "outputs": []
    },
    {
      "cell_type": "code",
      "source": [
        "df.keys() #returns all the key of the dataset dictionary"
      ],
      "metadata": {
        "id": "7Jan8kgi9M2A"
      },
      "execution_count": null,
      "outputs": []
    },
    {
      "cell_type": "code",
      "source": [
        " print(df.DESCR)#discription"
      ],
      "metadata": {
        "id": "qA3wOmYL9M4y"
      },
      "execution_count": null,
      "outputs": []
    },
    {
      "cell_type": "code",
      "source": [
        "print(df.feature_names)"
      ],
      "metadata": {
        "id": "klj7SyNG9M78"
      },
      "execution_count": null,
      "outputs": []
    },
    {
      "cell_type": "code",
      "source": [
        "print(df.filename)"
      ],
      "metadata": {
        "id": "ej-fMuqA9M_g"
      },
      "execution_count": null,
      "outputs": []
    },
    {
      "cell_type": "code",
      "source": [
        "boston = pd.DataFrame(df.data, columns=df.feature_names)\n",
        "boston.head()"
      ],
      "metadata": {
        "id": "zbuuTr8Y9NEK"
      },
      "execution_count": null,
      "outputs": []
    },
    {
      "cell_type": "code",
      "source": [
        "boston['MEDV'] = df.target\n",
        "boston.head"
      ],
      "metadata": {
        "id": "2d9-HB219NIJ"
      },
      "execution_count": null,
      "outputs": []
    },
    {
      "cell_type": "code",
      "source": [
        "boston.isnull()"
      ],
      "metadata": {
        "id": "KvAzp16v9NM1"
      },
      "execution_count": null,
      "outputs": []
    },
    {
      "cell_type": "code",
      "source": [
        "boston.isnull().sum()"
      ],
      "metadata": {
        "id": "pUNvW3QFUVhx"
      },
      "execution_count": null,
      "outputs": []
    },
    {
      "cell_type": "code",
      "source": [
        "from sklearn.model_selection import train_test_split\n",
        "x = boston.drop('MEDV',axis=1)\n",
        "y = boston['MEDV']\n",
        "x_train, x_test , y_train ,y_test = train_test_split(x,y, test_size=0.15, random_state=5)\n",
        "print(x_train.shape)\n",
        "print(x_test.shape)\n",
        "print(y_train.shape)\n",
        "print(y_test.shape) "
      ],
      "metadata": {
        "id": "nnyHjbKqUVkk"
      },
      "execution_count": null,
      "outputs": []
    },
    {
      "cell_type": "code",
      "source": [
        "from sklearn.linear_model import LinearRegression\n",
        "from sklearn.metrics import mean_squared_error\n"
      ],
      "metadata": {
        "id": "gnzL4E0XUVnG"
      },
      "execution_count": null,
      "outputs": []
    },
    {
      "cell_type": "code",
      "source": [
        "lin_model = LinearRegression()\n",
        "lin_model.fit(x_train , y_train)"
      ],
      "metadata": {
        "id": "qhyknWBgUVqq"
      },
      "execution_count": null,
      "outputs": []
    },
    {
      "cell_type": "code",
      "source": [
        "\n",
        "y_train_predict = lin_model.predict(x_train)\n",
        "rmse = (np.sqrt(mean_squared_error(y_train,y_train_predict)))\n",
        "print(\"The model performance for training set\")\n",
        "print('rmse is{} ' , format(rmse))\n",
        "print(\"\\n\")\n",
        "\n",
        "#on test set\n",
        "y_test_predict = lin_model.predict(x_test)\n",
        "rmse_1 = (np.sqrt(mean_squared_error(y_test,y_test_predict)))\n",
        "print(\"The model performance for training set\")\n",
        "print('rmse is{} ' , format(rmse_1))"
      ],
      "metadata": {
        "id": "DXJr9iPzUVtR"
      },
      "execution_count": null,
      "outputs": []
    },
    {
      "cell_type": "code",
      "source": [],
      "metadata": {
        "id": "uu7DfH5EUVyE"
      },
      "execution_count": null,
      "outputs": []
    },
    {
      "cell_type": "code",
      "source": [],
      "metadata": {
        "id": "aT9V9PP99NPe"
      },
      "execution_count": null,
      "outputs": []
    },
    {
      "cell_type": "code",
      "source": [],
      "metadata": {
        "id": "maD8Tn_W9NSO"
      },
      "execution_count": null,
      "outputs": []
    }
  ]
}